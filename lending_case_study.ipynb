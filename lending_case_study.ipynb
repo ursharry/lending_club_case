{
 "cells": [
  {
   "cell_type": "code",
   "execution_count": 27,
   "id": "748cee14",
   "metadata": {},
   "outputs": [],
   "source": [
    "#Importing Libraries required\n",
    "import pandas as pd\n",
    "import numpy as np\n",
    "import os\n",
    "import matplotlib.pyplot as plt\n",
    "from IPython.display import display\n",
    "import warnings\n",
    "warnings.filterwarnings('ignore')"
   ]
  },
  {
   "cell_type": "code",
   "execution_count": 28,
   "id": "cafa18a9",
   "metadata": {},
   "outputs": [
    {
     "data": {
      "text/html": [
       "<div>\n",
       "<style scoped>\n",
       "    .dataframe tbody tr th:only-of-type {\n",
       "        vertical-align: middle;\n",
       "    }\n",
       "\n",
       "    .dataframe tbody tr th {\n",
       "        vertical-align: top;\n",
       "    }\n",
       "\n",
       "    .dataframe thead th {\n",
       "        text-align: right;\n",
       "    }\n",
       "</style>\n",
       "<table border=\"1\" class=\"dataframe\">\n",
       "  <thead>\n",
       "    <tr style=\"text-align: right;\">\n",
       "      <th></th>\n",
       "      <th>id</th>\n",
       "      <th>member_id</th>\n",
       "      <th>loan_amnt</th>\n",
       "      <th>funded_amnt</th>\n",
       "      <th>funded_amnt_inv</th>\n",
       "      <th>term</th>\n",
       "      <th>int_rate</th>\n",
       "      <th>installment</th>\n",
       "      <th>grade</th>\n",
       "      <th>sub_grade</th>\n",
       "      <th>...</th>\n",
       "      <th>num_tl_90g_dpd_24m</th>\n",
       "      <th>num_tl_op_past_12m</th>\n",
       "      <th>pct_tl_nvr_dlq</th>\n",
       "      <th>percent_bc_gt_75</th>\n",
       "      <th>pub_rec_bankruptcies</th>\n",
       "      <th>tax_liens</th>\n",
       "      <th>tot_hi_cred_lim</th>\n",
       "      <th>total_bal_ex_mort</th>\n",
       "      <th>total_bc_limit</th>\n",
       "      <th>total_il_high_credit_limit</th>\n",
       "    </tr>\n",
       "  </thead>\n",
       "  <tbody>\n",
       "    <tr>\n",
       "      <th>0</th>\n",
       "      <td>1077501</td>\n",
       "      <td>1296599</td>\n",
       "      <td>5000</td>\n",
       "      <td>5000</td>\n",
       "      <td>4975.0</td>\n",
       "      <td>36 months</td>\n",
       "      <td>10.65%</td>\n",
       "      <td>162.87</td>\n",
       "      <td>B</td>\n",
       "      <td>B2</td>\n",
       "      <td>...</td>\n",
       "      <td>NaN</td>\n",
       "      <td>NaN</td>\n",
       "      <td>NaN</td>\n",
       "      <td>NaN</td>\n",
       "      <td>0.0</td>\n",
       "      <td>0.0</td>\n",
       "      <td>NaN</td>\n",
       "      <td>NaN</td>\n",
       "      <td>NaN</td>\n",
       "      <td>NaN</td>\n",
       "    </tr>\n",
       "  </tbody>\n",
       "</table>\n",
       "<p>1 rows × 111 columns</p>\n",
       "</div>"
      ],
      "text/plain": [
       "        id  member_id  loan_amnt  funded_amnt  funded_amnt_inv        term  \\\n",
       "0  1077501    1296599       5000         5000           4975.0   36 months   \n",
       "\n",
       "  int_rate  installment grade sub_grade  ... num_tl_90g_dpd_24m  \\\n",
       "0   10.65%       162.87     B        B2  ...                NaN   \n",
       "\n",
       "  num_tl_op_past_12m pct_tl_nvr_dlq  percent_bc_gt_75 pub_rec_bankruptcies  \\\n",
       "0                NaN            NaN               NaN                  0.0   \n",
       "\n",
       "  tax_liens tot_hi_cred_lim total_bal_ex_mort total_bc_limit  \\\n",
       "0       0.0             NaN               NaN            NaN   \n",
       "\n",
       "  total_il_high_credit_limit  \n",
       "0                        NaN  \n",
       "\n",
       "[1 rows x 111 columns]"
      ]
     },
     "execution_count": 28,
     "metadata": {},
     "output_type": "execute_result"
    }
   ],
   "source": [
    "#load the csv file into Pandas dataset\n",
    "loan = pd.read_csv(r\"H:\\ML&DL\\Lending_club_study\\loan\\loan.csv\")\n",
    "loan.head(1)"
   ]
  },
  {
   "cell_type": "code",
   "execution_count": 23,
   "id": "4fc8185a",
   "metadata": {},
   "outputs": [
    {
     "name": "stdout",
     "output_type": "stream",
     "text": [
      "(39717, 111)\n",
      "<class 'pandas.core.frame.DataFrame'>\n",
      "RangeIndex: 39717 entries, 0 to 39716\n",
      "Columns: 111 entries, id to total_il_high_credit_limit\n",
      "dtypes: float64(74), int64(13), object(24)\n",
      "memory usage: 33.6+ MB\n",
      "None\n",
      "id                              int64\n",
      "member_id                       int64\n",
      "loan_amnt                       int64\n",
      "funded_amnt                     int64\n",
      "funded_amnt_inv               float64\n",
      "                               ...   \n",
      "tax_liens                     float64\n",
      "tot_hi_cred_lim               float64\n",
      "total_bal_ex_mort             float64\n",
      "total_bc_limit                float64\n",
      "total_il_high_credit_limit    float64\n",
      "Length: 111, dtype: object\n"
     ]
    }
   ],
   "source": [
    "#check datatype and shape of DS\n",
    "print(loan.shape)\n",
    "print(loan.info())\n",
    "print(loan.dtypes)"
   ]
  },
  {
   "cell_type": "markdown",
   "id": "7f8e2c4a",
   "metadata": {},
   "source": [
    "## <h2>Data Cleaning Stats<h2>"
   ]
  },
  {
   "cell_type": "code",
   "execution_count": 24,
   "id": "a44cdd05",
   "metadata": {},
   "outputs": [
    {
     "data": {
      "text/plain": [
       "0"
      ]
     },
     "execution_count": 24,
     "metadata": {},
     "output_type": "execute_result"
    }
   ],
   "source": [
    "#Checking for Duplicate record \n",
    "loan.duplicated().sum()\n",
    "#There are no duplicate records"
   ]
  },
  {
   "cell_type": "code",
   "execution_count": 25,
   "id": "d1e35f1e",
   "metadata": {
    "scrolled": true
   },
   "outputs": [
    {
     "name": "stdout",
     "output_type": "stream",
     "text": [
      "number of columns with all null values : 54\n",
      "number of columns with all null values : 0\n"
     ]
    }
   ],
   "source": [
    "#Checking for columns/rows with all null values\n",
    "\n",
    "print(\"number of columns with all null values :\",loan.isnull().all(axis=0).sum())\n",
    "print(\"number of columns with all null values :\",loan.isnull().all(axis=1).sum())\n",
    "\n",
    "#Observation : No empty rows found but found 54 empty columns "
   ]
  },
  {
   "cell_type": "code",
   "execution_count": 30,
   "id": "4bcbcce2",
   "metadata": {},
   "outputs": [],
   "source": [
    "#drop the 54 columns having all null values \n",
    "loan_remove_col= list(loan.columns[loan.isnull().all(axis=0)])\n",
    "loan.drop(loan_remove_col,axis=1,inplace=True)"
   ]
  },
  {
   "cell_type": "code",
   "execution_count": 29,
   "id": "a6815403",
   "metadata": {
    "scrolled": true
   },
   "outputs": [],
   "source": [
    "#drop all the columns where most of the values is null or not requirement for Analysis\n",
    "col_add_col_drop = ['desc','mths_since_last_delinq','mths_since_last_record','member_id','next_pymnt_d']\n",
    "loan.drop(col_add_col_drop,axis=1,inplace=True)\n",
    "\n",
    "col_add_col_drop1 = ['tax_liens','zip_code','url','emp_title','tax_liens']\n",
    "loan.drop(col_add_col_drop1,axis=1,inplace=True)"
   ]
  },
  {
   "cell_type": "code",
   "execution_count": 31,
   "id": "5b1036fa",
   "metadata": {
    "scrolled": true
   },
   "outputs": [
    {
     "data": {
      "text/plain": [
       "Index(['emp_length', 'title', 'revol_util', 'last_pymnt_d',\n",
       "       'last_credit_pull_d', 'collections_12_mths_ex_med',\n",
       "       'chargeoff_within_12_mths', 'pub_rec_bankruptcies'],\n",
       "      dtype='object')"
      ]
     },
     "execution_count": 31,
     "metadata": {},
     "output_type": "execute_result"
    }
   ],
   "source": [
    "#check for the columns having null values after removing empty column and not required one.\n",
    "loan.columns[loan.isnull().sum()>0]"
   ]
  },
  {
   "cell_type": "code",
   "execution_count": 32,
   "id": "033b88a0",
   "metadata": {},
   "outputs": [
    {
     "data": {
      "text/html": [
       "<div>\n",
       "<style scoped>\n",
       "    .dataframe tbody tr th:only-of-type {\n",
       "        vertical-align: middle;\n",
       "    }\n",
       "\n",
       "    .dataframe tbody tr th {\n",
       "        vertical-align: top;\n",
       "    }\n",
       "\n",
       "    .dataframe thead th {\n",
       "        text-align: right;\n",
       "    }\n",
       "</style>\n",
       "<table border=\"1\" class=\"dataframe\">\n",
       "  <thead>\n",
       "    <tr style=\"text-align: right;\">\n",
       "      <th></th>\n",
       "      <th>id</th>\n",
       "      <th>loan_amnt</th>\n",
       "      <th>funded_amnt</th>\n",
       "      <th>funded_amnt_inv</th>\n",
       "      <th>term</th>\n",
       "      <th>int_rate</th>\n",
       "      <th>installment</th>\n",
       "      <th>grade</th>\n",
       "      <th>sub_grade</th>\n",
       "      <th>emp_length</th>\n",
       "      <th>...</th>\n",
       "      <th>last_pymnt_d</th>\n",
       "      <th>last_pymnt_amnt</th>\n",
       "      <th>last_credit_pull_d</th>\n",
       "      <th>collections_12_mths_ex_med</th>\n",
       "      <th>policy_code</th>\n",
       "      <th>application_type</th>\n",
       "      <th>acc_now_delinq</th>\n",
       "      <th>chargeoff_within_12_mths</th>\n",
       "      <th>delinq_amnt</th>\n",
       "      <th>pub_rec_bankruptcies</th>\n",
       "    </tr>\n",
       "  </thead>\n",
       "  <tbody>\n",
       "    <tr>\n",
       "      <th>0</th>\n",
       "      <td>1077501</td>\n",
       "      <td>5000</td>\n",
       "      <td>5000</td>\n",
       "      <td>4975.0</td>\n",
       "      <td>36 months</td>\n",
       "      <td>10.65%</td>\n",
       "      <td>162.87</td>\n",
       "      <td>B</td>\n",
       "      <td>B2</td>\n",
       "      <td>10</td>\n",
       "      <td>...</td>\n",
       "      <td>Jan-15</td>\n",
       "      <td>171.62</td>\n",
       "      <td>May-16</td>\n",
       "      <td>0.0</td>\n",
       "      <td>1</td>\n",
       "      <td>INDIVIDUAL</td>\n",
       "      <td>0</td>\n",
       "      <td>0.0</td>\n",
       "      <td>0</td>\n",
       "      <td>0.0</td>\n",
       "    </tr>\n",
       "    <tr>\n",
       "      <th>1</th>\n",
       "      <td>1077430</td>\n",
       "      <td>2500</td>\n",
       "      <td>2500</td>\n",
       "      <td>2500.0</td>\n",
       "      <td>60 months</td>\n",
       "      <td>15.27%</td>\n",
       "      <td>59.83</td>\n",
       "      <td>C</td>\n",
       "      <td>C4</td>\n",
       "      <td>1</td>\n",
       "      <td>...</td>\n",
       "      <td>Apr-13</td>\n",
       "      <td>119.66</td>\n",
       "      <td>Sep-13</td>\n",
       "      <td>0.0</td>\n",
       "      <td>1</td>\n",
       "      <td>INDIVIDUAL</td>\n",
       "      <td>0</td>\n",
       "      <td>0.0</td>\n",
       "      <td>0</td>\n",
       "      <td>0.0</td>\n",
       "    </tr>\n",
       "  </tbody>\n",
       "</table>\n",
       "<p>2 rows × 48 columns</p>\n",
       "</div>"
      ],
      "text/plain": [
       "        id  loan_amnt  funded_amnt  funded_amnt_inv        term int_rate  \\\n",
       "0  1077501       5000         5000           4975.0   36 months   10.65%   \n",
       "1  1077430       2500         2500           2500.0   60 months   15.27%   \n",
       "\n",
       "   installment grade sub_grade emp_length  ... last_pymnt_d  last_pymnt_amnt  \\\n",
       "0       162.87     B        B2         10  ...       Jan-15           171.62   \n",
       "1        59.83     C        C4          1  ...       Apr-13           119.66   \n",
       "\n",
       "  last_credit_pull_d collections_12_mths_ex_med policy_code application_type  \\\n",
       "0             May-16                        0.0           1       INDIVIDUAL   \n",
       "1             Sep-13                        0.0           1       INDIVIDUAL   \n",
       "\n",
       "  acc_now_delinq chargeoff_within_12_mths delinq_amnt  pub_rec_bankruptcies  \n",
       "0              0                      0.0           0                   0.0  \n",
       "1              0                      0.0           0                   0.0  \n",
       "\n",
       "[2 rows x 48 columns]"
      ]
     },
     "execution_count": 32,
     "metadata": {},
     "output_type": "execute_result"
    }
   ],
   "source": [
    "#lets do missing value imputation and format the important column required for analysis\n",
    "loan.emp_length.fillna('0',inplace=True)\n",
    "loan['emp_length']=loan.emp_length.str.extract('(\\d+)')\n",
    "loan.head(2)"
   ]
  },
  {
   "cell_type": "code",
   "execution_count": 33,
   "id": "f9f23e66",
   "metadata": {},
   "outputs": [
    {
     "name": "stdout",
     "output_type": "stream",
     "text": [
      "697\n",
      "After cleaning:\n",
      "0\n"
     ]
    }
   ],
   "source": [
    "#pub_rec_bankruptcies can be cleaned for further analysis.\n",
    "print(loan.pub_rec_bankruptcies.isnull().sum())\n",
    "print(\"After cleaning:\")\n",
    "loan.pub_rec_bankruptcies.fillna('Not Known',inplace=True)\n",
    "print(loan.pub_rec_bankruptcies.isnull().sum())"
   ]
  },
  {
   "cell_type": "code",
   "execution_count": 34,
   "id": "b941fb9f",
   "metadata": {},
   "outputs": [],
   "source": [
    "#remove # from interest rate and revol columns for calculation purpose\n",
    "loan['int_rate'] = loan['int_rate'].str.rstrip('%')\n",
    "loan['revol_util'] = loan['revol_util'].str.rstrip('%')"
   ]
  },
  {
   "cell_type": "code",
   "execution_count": 35,
   "id": "bed6d059",
   "metadata": {},
   "outputs": [],
   "source": [
    "#convert amount columns into numeric data for calculation purpose\n",
    "cols1 = ['loan_amnt','funded_amnt','int_rate','funded_amnt_inv','installment','annual_inc','dti','emp_length','total_pymnt']\n",
    "loan[cols1] = loan[cols1].apply(pd.to_numeric)\n",
    "\n"
   ]
  },
  {
   "cell_type": "code",
   "execution_count": 75,
   "id": "60515f30",
   "metadata": {},
   "outputs": [
    {
     "data": {
      "text/plain": [
       "Fully Paid     82.961956\n",
       "Charged Off    14.167737\n",
       "Current         2.870307\n",
       "Name: loan_status, dtype: float64"
      ]
     },
     "execution_count": 75,
     "metadata": {},
     "output_type": "execute_result"
    }
   ],
   "source": [
    "#Checking the loan status share to a total loan issued\n",
    "(loan.loan_status.value_counts())/len(loan)*100\n",
    "#Observation : \n",
    "#82% Loan are fully pain \n",
    "#14% charged off \n",
    "#2% current"
   ]
  },
  {
   "cell_type": "code",
   "execution_count": 81,
   "id": "70a0cc8e",
   "metadata": {},
   "outputs": [
    {
     "data": {
      "text/plain": [
       "debt_consolidation    46.934562\n",
       "credit_card           12.916383\n",
       "other                 10.053629\n",
       "home_improvement       7.493013\n",
       "major_purchase         5.506458\n",
       "small_business         4.602563\n",
       "car                    3.900093\n",
       "wedding                2.384369\n",
       "medical                1.744845\n",
       "moving                 1.467885\n",
       "vacation               0.959287\n",
       "house                  0.959287\n",
       "educational            0.818289\n",
       "renewable_energy       0.259335\n",
       "Name: purpose, dtype: float64"
      ]
     },
     "execution_count": 81,
     "metadata": {},
     "output_type": "execute_result"
    }
   ],
   "source": [
    "#Checking the loan status share to a total loan issued\n",
    "loan.purpose.value_counts()/len(loan)*100\n",
    "#Observation : \n",
    "# debt_consolidation and credit card loan have highest share "
   ]
  },
  {
   "cell_type": "markdown",
   "id": "f4cda394",
   "metadata": {},
   "source": [
    "<h2> Derive columns for Analysis : <h2>"
   ]
  },
  {
   "cell_type": "code",
   "execution_count": 36,
   "id": "1e38ae8e",
   "metadata": {},
   "outputs": [
    {
     "data": {
      "text/html": [
       "<div>\n",
       "<style scoped>\n",
       "    .dataframe tbody tr th:only-of-type {\n",
       "        vertical-align: middle;\n",
       "    }\n",
       "\n",
       "    .dataframe tbody tr th {\n",
       "        vertical-align: top;\n",
       "    }\n",
       "\n",
       "    .dataframe thead th {\n",
       "        text-align: right;\n",
       "    }\n",
       "</style>\n",
       "<table border=\"1\" class=\"dataframe\">\n",
       "  <thead>\n",
       "    <tr style=\"text-align: right;\">\n",
       "      <th></th>\n",
       "      <th>id</th>\n",
       "      <th>loan_amnt</th>\n",
       "      <th>funded_amnt</th>\n",
       "      <th>funded_amnt_inv</th>\n",
       "      <th>term</th>\n",
       "      <th>int_rate</th>\n",
       "      <th>installment</th>\n",
       "      <th>grade</th>\n",
       "      <th>sub_grade</th>\n",
       "      <th>emp_length</th>\n",
       "      <th>...</th>\n",
       "      <th>last_credit_pull_d</th>\n",
       "      <th>collections_12_mths_ex_med</th>\n",
       "      <th>policy_code</th>\n",
       "      <th>application_type</th>\n",
       "      <th>acc_now_delinq</th>\n",
       "      <th>chargeoff_within_12_mths</th>\n",
       "      <th>delinq_amnt</th>\n",
       "      <th>pub_rec_bankruptcies</th>\n",
       "      <th>year</th>\n",
       "      <th>month</th>\n",
       "    </tr>\n",
       "  </thead>\n",
       "  <tbody>\n",
       "    <tr>\n",
       "      <th>0</th>\n",
       "      <td>1077501</td>\n",
       "      <td>5000</td>\n",
       "      <td>5000</td>\n",
       "      <td>4975.0</td>\n",
       "      <td>36 months</td>\n",
       "      <td>10.65</td>\n",
       "      <td>162.87</td>\n",
       "      <td>B</td>\n",
       "      <td>B2</td>\n",
       "      <td>10</td>\n",
       "      <td>...</td>\n",
       "      <td>May-16</td>\n",
       "      <td>0.0</td>\n",
       "      <td>1</td>\n",
       "      <td>INDIVIDUAL</td>\n",
       "      <td>0</td>\n",
       "      <td>0.0</td>\n",
       "      <td>0</td>\n",
       "      <td>0.0</td>\n",
       "      <td>2011</td>\n",
       "      <td>12</td>\n",
       "    </tr>\n",
       "  </tbody>\n",
       "</table>\n",
       "<p>1 rows × 50 columns</p>\n",
       "</div>"
      ],
      "text/plain": [
       "        id  loan_amnt  funded_amnt  funded_amnt_inv        term  int_rate  \\\n",
       "0  1077501       5000         5000           4975.0   36 months     10.65   \n",
       "\n",
       "   installment grade sub_grade  emp_length  ... last_credit_pull_d  \\\n",
       "0       162.87     B        B2          10  ...             May-16   \n",
       "\n",
       "   collections_12_mths_ex_med policy_code application_type acc_now_delinq  \\\n",
       "0                         0.0           1       INDIVIDUAL              0   \n",
       "\n",
       "  chargeoff_within_12_mths delinq_amnt pub_rec_bankruptcies  year  month  \n",
       "0                      0.0           0                  0.0  2011     12  \n",
       "\n",
       "[1 rows x 50 columns]"
      ]
     },
     "execution_count": 36,
     "metadata": {},
     "output_type": "execute_result"
    }
   ],
   "source": [
    "#Creating derive column from issue date for analysis purpose\n",
    "loan.issue_d = pd.to_datetime(loan.issue_d, format='%b-%y')\n",
    "loan['year']=loan['issue_d'].dt.year\n",
    "loan['month']=loan['issue_d'].dt.month\n",
    "\n",
    "loan.head(1)"
   ]
  },
  {
   "cell_type": "markdown",
   "id": "a3b1bd2e",
   "metadata": {},
   "source": [
    "\n",
    "<h2> Univarient Analysis : <h2>"
   ]
  },
  {
   "cell_type": "code",
   "execution_count": 37,
   "id": "b1285f9f",
   "metadata": {},
   "outputs": [
    {
     "data": {
      "text/plain": [
       "count    39717.000000\n",
       "mean     11219.443815\n",
       "std       7456.670694\n",
       "min        500.000000\n",
       "25%       5500.000000\n",
       "50%      10000.000000\n",
       "75%      15000.000000\n",
       "max      35000.000000\n",
       "Name: loan_amnt, dtype: float64"
      ]
     },
     "execution_count": 37,
     "metadata": {},
     "output_type": "execute_result"
    }
   ],
   "source": [
    "#Checking basic Statistics with the help of describe and box plot - Quantitative Variables\n",
    "loan['loan_amnt'].describe()"
   ]
  },
  {
   "cell_type": "code",
   "execution_count": 38,
   "id": "09ee4d3e",
   "metadata": {},
   "outputs": [
    {
     "data": {
      "text/plain": [
       "<AxesSubplot:xlabel='loan_amnt'>"
      ]
     },
     "execution_count": 38,
     "metadata": {},
     "output_type": "execute_result"
    },
    {
     "data": {
      "image/png": "[encoded data removed]",
      "text/plain": [
       "<Figure size 432x288 with 1 Axes>"
      ]
     },
     "metadata": {
      "needs_background": "light"
     },
     "output_type": "display_data"
    }
   ],
   "source": [
    "import seaborn as sns\n",
    "sns.boxplot(loan.loan_amnt)"
   ]
  },
  {
   "cell_type": "code",
   "execution_count": 86,
   "id": "81866516",
   "metadata": {},
   "outputs": [
    {
     "data": {
      "text/plain": [
       "count    39717.000000\n",
       "mean     12153.596544\n",
       "std       9042.040766\n",
       "min          0.000000\n",
       "25%       5576.930000\n",
       "50%       9899.640319\n",
       "75%      16534.433040\n",
       "max      58563.679930\n",
       "Name: total_pymnt, dtype: float64"
      ]
     },
     "execution_count": 86,
     "metadata": {},
     "output_type": "execute_result"
    }
   ],
   "source": [
    "#Checking basic Statistics with the help of describe and box plot - Quantitative Variables\n",
    "loan.total_pymnt.describe()"
   ]
  },
  {
   "cell_type": "code",
   "execution_count": 39,
   "id": "87965b4e",
   "metadata": {},
   "outputs": [
    {
     "data": {
      "text/plain": [
       "<AxesSubplot:xlabel='total_pymnt'>"
      ]
     },
     "execution_count": 39,
     "metadata": {},
     "output_type": "execute_result"
    },
    {
     "data": {
      "image/png": "[encoded data removed]",
      "text/plain": [
       "<Figure size 432x288 with 1 Axes>"
      ]
     },
     "metadata": {
      "needs_background": "light"
     },
     "output_type": "display_data"
    }
   ],
   "source": [
    "sns.boxplot(loan.total_pymnt)"
   ]
  },
  {
   "cell_type": "code",
   "execution_count": 40,
   "id": "f72e730b",
   "metadata": {},
   "outputs": [
    {
     "name": "stdout",
     "output_type": "stream",
     "text": [
      "count    3.971700e+04\n",
      "mean     6.896893e+04\n",
      "std      6.379377e+04\n",
      "min      4.000000e+03\n",
      "25%      4.040400e+04\n",
      "50%      5.900000e+04\n",
      "75%      8.230000e+04\n",
      "max      6.000000e+06\n",
      "Name: annual_inc, dtype: float64\n"
     ]
    },
    {
     "data": {
      "text/plain": [
       "<AxesSubplot:xlabel='annual_inc'>"
      ]
     },
     "execution_count": 40,
     "metadata": {},
     "output_type": "execute_result"
    },
    {
     "data": {
      "image/png": "[encoded data removed]",
      "text/plain": [
       "<Figure size 432x288 with 1 Axes>"
      ]
     },
     "metadata": {
      "needs_background": "light"
     },
     "output_type": "display_data"
    }
   ],
   "source": [
    "#Checking basic Statistics with the help of describe and box plot - Quantitative Variables\n",
    "print(loan['annual_inc'].describe())\n",
    "sns.boxplot(loan.annual_inc)"
   ]
  },
  {
   "cell_type": "markdown",
   "id": "684935e0",
   "metadata": {},
   "source": [
    "<h3> Outlier Treatment <h3>"
   ]
  },
  {
   "cell_type": "code",
   "execution_count": 41,
   "id": "dfaddd6a",
   "metadata": {},
   "outputs": [],
   "source": [
    "#Required Outlier treatment hence removing values outside 99% percentile\n",
    "loan = loan[loan[\"annual_inc\"] < loan[\"annual_inc\"].quantile(0.99)]"
   ]
  },
  {
   "cell_type": "code",
   "execution_count": 42,
   "id": "cc405bbf",
   "metadata": {},
   "outputs": [
    {
     "data": {
      "text/plain": [
       "<AxesSubplot:xlabel='annual_inc'>"
      ]
     },
     "execution_count": 42,
     "metadata": {},
     "output_type": "execute_result"
    },
    {
     "data": {
      "image/png": "[encoded data removed]",
      "text/plain": [
       "<Figure size 432x288 with 1 Axes>"
      ]
     },
     "metadata": {
      "needs_background": "light"
     },
     "output_type": "display_data"
    }
   ],
   "source": [
    "sns.boxplot(loan.annual_inc)"
   ]
  },
  {
   "cell_type": "code",
   "execution_count": 45,
   "id": "c18f7f30",
   "metadata": {},
   "outputs": [
    {
     "data": {
      "text/plain": [
       "count    39319.000000\n",
       "mean        12.006142\n",
       "std          3.717367\n",
       "min          5.420000\n",
       "25%          9.250000\n",
       "50%         11.830000\n",
       "75%         14.540000\n",
       "max         24.590000\n",
       "Name: int_rate, dtype: float64"
      ]
     },
     "execution_count": 45,
     "metadata": {},
     "output_type": "execute_result"
    }
   ],
   "source": [
    "#Checking basic Statistics with the help of describe and box plot - Quantitative Variables\n",
    "loan['int_rate'].describe()\n",
    "\n",
    "# Average interest rate is 12%\n",
    "# After 75th Percentile interest rate increcease from 14% to 25%"
   ]
  },
  {
   "cell_type": "code",
   "execution_count": 44,
   "id": "cafafeb5",
   "metadata": {},
   "outputs": [
    {
     "data": {
      "text/plain": [
       "<AxesSubplot:xlabel='int_rate'>"
      ]
     },
     "execution_count": 44,
     "metadata": {},
     "output_type": "execute_result"
    },
    {
     "data": {
      "image/png": "[encoded data removed]",
      "text/plain": [
       "<Figure size 432x288 with 1 Axes>"
      ]
     },
     "metadata": {
      "needs_background": "light"
     },
     "output_type": "display_data"
    }
   ],
   "source": [
    "sns.boxplot(loan.int_rate)"
   ]
  },
  {
   "cell_type": "code",
   "execution_count": 46,
   "id": "a8546c84",
   "metadata": {},
   "outputs": [
    {
     "name": "stdout",
     "output_type": "stream",
     "text": [
      "(39319, 45)\n"
     ]
    },
    {
     "data": {
      "text/plain": [
       "id                             0\n",
       "loan_amnt                      0\n",
       "funded_amnt                    0\n",
       "funded_amnt_inv                0\n",
       "term                           0\n",
       "int_rate                       0\n",
       "grade                          0\n",
       "sub_grade                      0\n",
       "emp_length                     0\n",
       "home_ownership                 0\n",
       "annual_inc                     0\n",
       "verification_status            0\n",
       "issue_d                        0\n",
       "loan_status                    0\n",
       "purpose                        0\n",
       "title                         11\n",
       "addr_state                     0\n",
       "dti                            0\n",
       "delinq_2yrs                    0\n",
       "earliest_cr_line               0\n",
       "inq_last_6mths                 0\n",
       "open_acc                       0\n",
       "pub_rec                        0\n",
       "revol_bal                      0\n",
       "revol_util                    49\n",
       "total_acc                      0\n",
       "out_prncp                      0\n",
       "out_prncp_inv                  0\n",
       "total_pymnt                    0\n",
       "total_pymnt_inv                0\n",
       "total_rec_prncp                0\n",
       "total_rec_int                  0\n",
       "total_rec_late_fee             0\n",
       "recoveries                     0\n",
       "collection_recovery_fee        0\n",
       "last_pymnt_d                  71\n",
       "last_pymnt_amnt                0\n",
       "last_credit_pull_d             2\n",
       "collections_12_mths_ex_med    55\n",
       "acc_now_delinq                 0\n",
       "chargeoff_within_12_mths      55\n",
       "delinq_amnt                    0\n",
       "pub_rec_bankruptcies           0\n",
       "year                           0\n",
       "month                          0\n",
       "dtype: int64"
      ]
     },
     "execution_count": 46,
     "metadata": {},
     "output_type": "execute_result"
    }
   ],
   "source": [
    "# Data cleaning\n",
    "# Drop additional columns which are not needed further in analysis.\n",
    "\n",
    "columns_drop_list3 = [\"application_type\",\"policy_code\",\"initial_list_status\",\"installment\",\"pymnt_plan\"]\n",
    "loan.drop(labels = columns_drop_list3, axis =1, inplace=True)\n",
    "print(loan.shape)\n",
    "loan.isnull().sum()"
   ]
  },
  {
   "cell_type": "code",
   "execution_count": 47,
   "id": "6b7a9150",
   "metadata": {},
   "outputs": [],
   "source": [
    "# Derived columns\n",
    "# categorise loan amounts into buckets which will help in analysis further in bivariate analysis.\n",
    "loan['loan_amnt_cats'] = pd.cut(loan['loan_amnt'], [0, 7000, 14000, 21000, 28000, 35000], labels=['0-7000', '7000-14000', '14000-21000', '21000-28000', '28000 +'])\n",
    "\n",
    "# categorise annual incomes into buckets which will help in analysis further in bivariate analysis.\n",
    "loan['annual_inc_cats'] = pd.cut(loan['annual_inc'], [0, 20000, 40000, 60000, 80000,1000000], labels=['0-20000', '20000-40000', '40000-60000', '60000-80000', '80000 +'])\n",
    "\n",
    "# categorise intrest rates into buckets which will help in analysis further in bivariate analysis.\n",
    "loan['int_rate_cats'] = pd.cut(loan['int_rate'], [0, 10, 12.5, 16, 20], labels=['0-10', '10-13', '12.5-16', '16 +'])\n",
    "\n",
    "# categorise dti into buckets for bivariate analysis.\n",
    "loan['dti_cats'] = pd.cut(loan['dti'], [0, 5, 10, 15, 20, 25], labels=['0-5', '05-10', '10-15', '15-20', '25+'])\n"
   ]
  },
  {
   "cell_type": "code",
   "execution_count": 48,
   "id": "d49ca544",
   "metadata": {},
   "outputs": [
    {
     "name": "stdout",
     "output_type": "stream",
     "text": [
      "(39319, 49)\n"
     ]
    },
    {
     "data": {
      "text/html": [
       "<div>\n",
       "<style scoped>\n",
       "    .dataframe tbody tr th:only-of-type {\n",
       "        vertical-align: middle;\n",
       "    }\n",
       "\n",
       "    .dataframe tbody tr th {\n",
       "        vertical-align: top;\n",
       "    }\n",
       "\n",
       "    .dataframe thead th {\n",
       "        text-align: right;\n",
       "    }\n",
       "</style>\n",
       "<table border=\"1\" class=\"dataframe\">\n",
       "  <thead>\n",
       "    <tr style=\"text-align: right;\">\n",
       "      <th></th>\n",
       "      <th>id</th>\n",
       "      <th>loan_amnt</th>\n",
       "      <th>funded_amnt</th>\n",
       "      <th>funded_amnt_inv</th>\n",
       "      <th>term</th>\n",
       "      <th>int_rate</th>\n",
       "      <th>grade</th>\n",
       "      <th>sub_grade</th>\n",
       "      <th>emp_length</th>\n",
       "      <th>home_ownership</th>\n",
       "      <th>...</th>\n",
       "      <th>acc_now_delinq</th>\n",
       "      <th>chargeoff_within_12_mths</th>\n",
       "      <th>delinq_amnt</th>\n",
       "      <th>pub_rec_bankruptcies</th>\n",
       "      <th>year</th>\n",
       "      <th>month</th>\n",
       "      <th>loan_amnt_cats</th>\n",
       "      <th>annual_inc_cats</th>\n",
       "      <th>int_rate_cats</th>\n",
       "      <th>dti_cats</th>\n",
       "    </tr>\n",
       "  </thead>\n",
       "  <tbody>\n",
       "    <tr>\n",
       "      <th>0</th>\n",
       "      <td>1077501</td>\n",
       "      <td>5000</td>\n",
       "      <td>5000</td>\n",
       "      <td>4975.0</td>\n",
       "      <td>36 months</td>\n",
       "      <td>10.65</td>\n",
       "      <td>B</td>\n",
       "      <td>B2</td>\n",
       "      <td>10</td>\n",
       "      <td>RENT</td>\n",
       "      <td>...</td>\n",
       "      <td>0</td>\n",
       "      <td>0.0</td>\n",
       "      <td>0</td>\n",
       "      <td>0.0</td>\n",
       "      <td>2011</td>\n",
       "      <td>12</td>\n",
       "      <td>0-7000</td>\n",
       "      <td>20000-40000</td>\n",
       "      <td>10-13</td>\n",
       "      <td>NaN</td>\n",
       "    </tr>\n",
       "  </tbody>\n",
       "</table>\n",
       "<p>1 rows × 49 columns</p>\n",
       "</div>"
      ],
      "text/plain": [
       "        id  loan_amnt  funded_amnt  funded_amnt_inv        term  int_rate  \\\n",
       "0  1077501       5000         5000           4975.0   36 months     10.65   \n",
       "\n",
       "  grade sub_grade  emp_length home_ownership  ...  acc_now_delinq  \\\n",
       "0     B        B2          10           RENT  ...               0   \n",
       "\n",
       "  chargeoff_within_12_mths delinq_amnt pub_rec_bankruptcies  year month  \\\n",
       "0                      0.0           0                  0.0  2011    12   \n",
       "\n",
       "  loan_amnt_cats  annual_inc_cats  int_rate_cats dti_cats  \n",
       "0         0-7000      20000-40000          10-13      NaN  \n",
       "\n",
       "[1 rows x 49 columns]"
      ]
     },
     "execution_count": 48,
     "metadata": {},
     "output_type": "execute_result"
    }
   ],
   "source": [
    "print(loan.shape)\n",
    "loan.head(1)"
   ]
  },
  {
   "cell_type": "markdown",
   "id": "838334ed",
   "metadata": {},
   "source": [
    "<h2>Univariant Analysis<h2>"
   ]
  },
  {
   "cell_type": "code",
   "execution_count": 73,
   "id": "e553c9c8",
   "metadata": {},
   "outputs": [
    {
     "data": {
      "text/plain": [
       "Text(0.5, 1.0, 'Amount Funded')"
      ]
     },
     "execution_count": 73,
     "metadata": {},
     "output_type": "execute_result"
    },
    {
     "data": {
      "image/png": "[encoded data removed]",
      "text/plain": [
       "<Figure size 1152x360 with 2 Axes>"
      ]
     },
     "metadata": {},
     "output_type": "display_data"
    }
   ],
   "source": [
    "#Checking the distrubution of Loan and Funded amount\n",
    "\n",
    "fig, ax = plt.subplots(1, 2, figsize=(16,5))\n",
    "sns.distplot(loan['loan_amnt'], ax=ax[0], color=\"#F7522F\")\n",
    "ax[0].set_title(\"Loan Amount\", fontsize=14)\n",
    "sns.distplot(loan['funded_amnt'], ax=ax[1], color=\"#2F8FF7\")\n",
    "ax[1].set_title(\"Amount Funded\", fontsize=14)\n",
    "\n",
    "# Observation: \n",
    "# Distribution of amounts for two amount looks very much similar.\n",
    "#hence will work with only loan amount column for rest of our analysis.\n"
   ]
  },
  {
   "cell_type": "code",
   "execution_count": 95,
   "id": "98521600",
   "metadata": {},
   "outputs": [
    {
     "data": {
      "image/png": "[encoded data removed]",
      "text/plain": [
       "<Figure size 1080x576 with 2 Axes>"
      ]
     },
     "metadata": {},
     "output_type": "display_data"
    }
   ],
   "source": [
    "#Analysis on Loan amount-Quantitative Variables\n",
    "\n",
    "plt.figure(figsize=(15,8))\n",
    "sns.set_style(\"dark\")\n",
    "# subplot 1\n",
    "plt.subplot(2, 2, 1)\n",
    "ax = sns.distplot(loan['loan_amnt'],rug = True)\n",
    "ax.set_title('Loan Amount - Distribution Plot',fontsize=16,color='w')\n",
    "ax.set_xlabel('Loan Amount',fontsize=14,color='w')\n",
    "# subplot 2\n",
    "plt.subplot(2, 2, 2)\n",
    "ax = sns.boxplot(y=loan['loan_amnt'])\n",
    "ax.set_title('Loan Amount - Box Plot',fontsize=16,color='w')\n",
    "ax.set_ylabel('Loan Amount',fontsize=14,color='w')\n",
    "plt.show()\n",
    "\n",
    "# Observations :\n",
    "# Below plots show that most of the Loan amounts are in range of 5000 - 15000"
   ]
  },
  {
   "cell_type": "code",
   "execution_count": 93,
   "id": "0cfd7ab7",
   "metadata": {
    "scrolled": true
   },
   "outputs": [
    {
     "data": {
      "image/png": "[encoded data removed]",
      "text/plain": [
       "<Figure size 1080x576 with 2 Axes>"
      ]
     },
     "metadata": {},
     "output_type": "display_data"
    }
   ],
   "source": [
    "#Analysis on Interest Rate -Quantitative one\n",
    "plt.figure(figsize=(15,8))\n",
    "sns.set_style(\"dark\")\n",
    "# subplot 1\n",
    "plt.subplot(2, 2, 1)\n",
    "ax = sns.distplot(loan['int_rate'],rug = True)\n",
    "ax.set_title('Interest Rate - Distribution Plot',fontsize=16,color='w')\n",
    "ax.set_xlabel('Interest Rate',fontsize=14,color='w')\n",
    "# subplot 2\n",
    "plt.subplot(2, 2, 2)\n",
    "ax = sns.boxplot(y=loan['int_rate'])\n",
    "ax.set_title('Interest Rate - Box Plot',fontsize=16,color='w')\n",
    "ax.set_ylabel('Interest Rate',fontsize=14,color='w')\n",
    "plt.show()\n",
    "\n",
    "# Observations :\n",
    "# Below plots show that most of the Interest Rates on loans are in range of 10% - 15%"
   ]
  },
  {
   "cell_type": "code",
   "execution_count": 90,
   "id": "1acba684",
   "metadata": {},
   "outputs": [
    {
     "data": {
      "image/png": "[encoded data removed]",
      "text/plain": [
       "<Figure size 1080x576 with 2 Axes>"
      ]
     },
     "metadata": {},
     "output_type": "display_data"
    }
   ],
   "source": [
    "#Analysis on Annual Income -Quantitative one\n",
    "\n",
    "plt.figure(figsize=(15,8))\n",
    "sns.set_style(\"dark\")\n",
    "# subplot 1\n",
    "plt.subplot(2, 2, 1)\n",
    "ax = sns.distplot(loan['annual_inc'],rug = True)\n",
    "ax.set_title('Annual Income - Distribution Plot',fontsize=16,color='w')\n",
    "ax.set_xlabel('Annual Income',fontsize=14,color='w')\n",
    "# subplot 2\n",
    "plt.subplot(2, 2, 2)\n",
    "plt.title('Annual Income - Box Plot')\n",
    "ax = sns.boxplot(y=loan['annual_inc'])\n",
    "ax.set_title('Annual Income - Box Plot',fontsize=16,color='w')\n",
    "ax.set_ylabel('Annual Income',fontsize=14,color='w')\n",
    "plt.show()\n",
    "\n",
    "# Observations :\n",
    "# Below plots show that most of the Annual incomes are in range of 40000- 80000\n"
   ]
  },
  {
   "cell_type": "code",
   "execution_count": 89,
   "id": "c6117edd",
   "metadata": {},
   "outputs": [
    {
     "data": {
      "image/png": "[encoded data removed]",
      "text/plain": [
       "<Figure size 720x576 with 1 Axes>"
      ]
     },
     "metadata": {},
     "output_type": "display_data"
    }
   ],
   "source": [
    "#UnOrdered Categorical Univariant Analysis on Loan status\n",
    "\n",
    "plt.figure(figsize=(10,8))\n",
    "sns.set_style(\"dark\")\n",
    "ax = sns.countplot(x=\"loan_status\",data=loan,palette='mako')\n",
    "ax.set_title('Loan Status',fontsize=14,color='w')\n",
    "ax.set_xlabel('Loan Status',fontsize=14,color = 'w')\n",
    "ax.set_ylabel('Loan Application Count',fontsize=14,color = 'w')            \n",
    "# To show count of values above bars\n",
    "s=loan['loan_status'].value_counts()\n",
    "\n",
    "# Observations :\n",
    "# Below plot shows that close to 14% loans were charged off out of total loan issued."
   ]
  },
  {
   "cell_type": "code",
   "execution_count": 88,
   "id": "76895df4",
   "metadata": {},
   "outputs": [
    {
     "data": {
      "image/png": "[encoded data removed]",
      "text/plain": [
       "<Figure size 1008x576 with 1 Axes>"
      ]
     },
     "metadata": {},
     "output_type": "display_data"
    }
   ],
   "source": [
    "#UnOrdered Categorical Univariant Analysis on Loan Purpose\n",
    "plt.figure(figsize=(14,8))\n",
    "sns.set_style(\"dark\")\n",
    "ax = sns.countplot(y=\"purpose\",data=loan,hue='loan_status',palette='GnBu_d')\n",
    "ax.set_title('Purpose Of Loan',fontsize=14,color='w')\n",
    "ax.set_ylabel('Purpose Of Loan',fontsize=14,color = 'w')\n",
    "ax.set_xlabel('Loan Application Count',fontsize=14,color = 'w')      \n",
    "plt.show()\n",
    "# Observations :\n",
    "# Below plot shows that most of the loans were taken for the purpose of debt consolidation & paying credit card bill.\n",
    "# Number of chraged off count also high too for these loans."
   ]
  },
  {
   "cell_type": "code",
   "execution_count": 87,
   "id": "e03d31af",
   "metadata": {},
   "outputs": [
    {
     "data": {
      "image/png": "[encoded data removed]",
      "text/plain": [
       "<Figure size 720x432 with 1 Axes>"
      ]
     },
     "metadata": {},
     "output_type": "display_data"
    }
   ],
   "source": [
    "#UnOrdered Categorical Univariant Analysis on Home Ownership\n",
    "plt.figure(figsize=(10,6))\n",
    "ax = sns.countplot(x=\"home_ownership\",data=loan,hue='loan_status',palette='GnBu_d')\n",
    "ax.legend(bbox_to_anchor=(1, 1))\n",
    "ax.set_title('Home Ownership',fontsize=14,color='w')\n",
    "ax.set_xlabel('Home Ownership',fontsize=14,color = 'w')\n",
    "ax.set_ylabel('Loan Application Count',fontsize=14,color = 'w')      \n",
    "plt.show()\n",
    "# Observations :\n",
    "# Below plot shows that most of them living in rented home or mortgazed their home.\n",
    "# Applicant numbers are high from these categories so charged off is high too."
   ]
  },
  {
   "cell_type": "code",
   "execution_count": 86,
   "id": "dc249743",
   "metadata": {},
   "outputs": [
    {
     "data": {
      "image/png": "[encoded data removed]",
      "text/plain": [
       "<Figure size 1008x432 with 1 Axes>"
      ]
     },
     "metadata": {},
     "output_type": "display_data"
    }
   ],
   "source": [
    "#Ordered Categorical Univariant Analysis on Derive Columns\n",
    "plt.figure(figsize=(14,6))\n",
    "loan.groupby(['year','month']).id.count().plot(kind='bar')\n",
    "plt.ylabel('Loan applications count',fontsize=14,color='w')\n",
    "plt.xlabel('Year,Month',fontsize=14,color = 'w')      \n",
    "plt.title(\"No of loan applications issued over the years\",fontsize=14,color='w')\n",
    "plt.show()\n",
    "\n",
    "# Observation is that count of loan application is increasing every passing year.\n",
    "# so increase in number of loan applications are adding more to "
   ]
  },
  {
   "cell_type": "code",
   "execution_count": 85,
   "id": "39936444",
   "metadata": {},
   "outputs": [
    {
     "data": {
      "image/png": "[encoded data removed]",
      "text/plain": [
       "<Figure size 720x432 with 1 Axes>"
      ]
     },
     "metadata": {},
     "output_type": "display_data"
    }
   ],
   "source": [
    "#Ordered Categorical Univariant Analysis on loan paying term\n",
    "plt.figure(figsize=(10,6))\n",
    "ax = sns.countplot(x=\"term\",data=loan,hue='loan_status',palette='GnBu_d')\n",
    "ax.set_title('Loan Paying Term',fontsize=14,color='w')\n",
    "ax.set_xlabel('Loan Repayment Term',fontsize=14,color = 'w')\n",
    "ax.set_ylabel('Loan Application Count',fontsize=14,color = 'w')      \n",
    "ax.legend(bbox_to_anchor=(1, 1))\n",
    "plt.show()\n",
    "# Observations :\n",
    "# Below plot shows that those who had taken loan to repay in 60 months had more % of number of applicants getting \n",
    "# charged off as compared to applicants who had taken loan for 36 months."
   ]
  },
  {
   "cell_type": "markdown",
   "id": "842db1e1",
   "metadata": {},
   "source": [
    "<h2>Bivariant Analysis<h2>"
   ]
  },
  {
   "cell_type": "code",
   "execution_count": 54,
   "id": "115725d3",
   "metadata": {},
   "outputs": [
    {
     "data": {
      "text/html": [
       "<div>\n",
       "<style scoped>\n",
       "    .dataframe tbody tr th:only-of-type {\n",
       "        vertical-align: middle;\n",
       "    }\n",
       "\n",
       "    .dataframe tbody tr th {\n",
       "        vertical-align: top;\n",
       "    }\n",
       "\n",
       "    .dataframe thead th {\n",
       "        text-align: right;\n",
       "    }\n",
       "</style>\n",
       "<table border=\"1\" class=\"dataframe\">\n",
       "  <thead>\n",
       "    <tr style=\"text-align: right;\">\n",
       "      <th>loan_status</th>\n",
       "      <th>annual_inc_cats</th>\n",
       "      <th>Charged Off</th>\n",
       "      <th>Current</th>\n",
       "      <th>Fully Paid</th>\n",
       "      <th>Total</th>\n",
       "      <th>Chargedoff_Proportion</th>\n",
       "    </tr>\n",
       "  </thead>\n",
       "  <tbody>\n",
       "    <tr>\n",
       "      <th>0</th>\n",
       "      <td>0-20000</td>\n",
       "      <td>237</td>\n",
       "      <td>9</td>\n",
       "      <td>943</td>\n",
       "      <td>1189</td>\n",
       "      <td>0.199327</td>\n",
       "    </tr>\n",
       "    <tr>\n",
       "      <th>1</th>\n",
       "      <td>20000-40000</td>\n",
       "      <td>1514</td>\n",
       "      <td>170</td>\n",
       "      <td>7004</td>\n",
       "      <td>8688</td>\n",
       "      <td>0.174263</td>\n",
       "    </tr>\n",
       "    <tr>\n",
       "      <th>2</th>\n",
       "      <td>40000-60000</td>\n",
       "      <td>1729</td>\n",
       "      <td>345</td>\n",
       "      <td>9534</td>\n",
       "      <td>11608</td>\n",
       "      <td>0.148949</td>\n",
       "    </tr>\n",
       "    <tr>\n",
       "      <th>3</th>\n",
       "      <td>60000-80000</td>\n",
       "      <td>1024</td>\n",
       "      <td>240</td>\n",
       "      <td>6597</td>\n",
       "      <td>7861</td>\n",
       "      <td>0.130263</td>\n",
       "    </tr>\n",
       "    <tr>\n",
       "      <th>4</th>\n",
       "      <td>80000 +</td>\n",
       "      <td>1080</td>\n",
       "      <td>362</td>\n",
       "      <td>8531</td>\n",
       "      <td>9973</td>\n",
       "      <td>0.108292</td>\n",
       "    </tr>\n",
       "  </tbody>\n",
       "</table>\n",
       "</div>"
      ],
      "text/plain": [
       "loan_status annual_inc_cats  Charged Off  Current  Fully Paid  Total  \\\n",
       "0                   0-20000          237        9         943   1189   \n",
       "1               20000-40000         1514      170        7004   8688   \n",
       "2               40000-60000         1729      345        9534  11608   \n",
       "3               60000-80000         1024      240        6597   7861   \n",
       "4                   80000 +         1080      362        8531   9973   \n",
       "\n",
       "loan_status  Chargedoff_Proportion  \n",
       "0                         0.199327  \n",
       "1                         0.174263  \n",
       "2                         0.148949  \n",
       "3                         0.130263  \n",
       "4                         0.108292  "
      ]
     },
     "execution_count": 54,
     "metadata": {},
     "output_type": "execute_result"
    }
   ],
   "source": [
    "#In this part let try to analysis loan status against some important columns \n",
    "#Will try to find proportion of charged offs in some categories.\n",
    "\n",
    "# To calculate charged off proportion, Let us create a seperate Dataset with respective interested column group by \n",
    "# and also add the loan status values proportion to total \n",
    "\n",
    "\n",
    "# Bivariate Analysis on annual income against Chargedoff_Proportion -\n",
    "inc_range_vs_loan = loan.groupby(['annual_inc_cats', 'loan_status']).loan_status.count().unstack().fillna(0).reset_index()\n",
    "inc_range_vs_loan['Total'] = inc_range_vs_loan['Charged Off'] + inc_range_vs_loan['Current'] + inc_range_vs_loan['Fully Paid'] \n",
    "inc_range_vs_loan['Chargedoff_Proportion'] = inc_range_vs_loan['Charged Off'] / inc_range_vs_loan['Total']\n",
    "inc_range_vs_loan.sort_values('Chargedoff_Proportion', ascending=False)\n"
   ]
  },
  {
   "cell_type": "code",
   "execution_count": 84,
   "id": "fb133c64",
   "metadata": {},
   "outputs": [
    {
     "data": {
      "image/png": "[encoded data removed]",
      "text/plain": [
       "<Figure size 864x576 with 1 Axes>"
      ]
     },
     "metadata": {},
     "output_type": "display_data"
    }
   ],
   "source": [
    "fig, ax1 = plt.subplots(figsize=(12, 8))\n",
    "ax1.set_title('Annual Income vs Chargedoff Proportion',fontsize=15,color = 'w')\n",
    "ax1=sns.barplot(x='annual_inc_cats', y='Chargedoff_Proportion', data=inc_range_vs_loan)\n",
    "ax1.set_ylabel('Chargedoff Proportion',fontsize=14,color = 'w')\n",
    "ax1.set_xlabel('Annual Income',fontsize=14,color='w')\n",
    "plt.show()\n",
    "\n",
    "# Observations:\n",
    "# Income range 80000+  has less chances of charged off.\n",
    "# Income range 0-20000 has high chances of charged off.\n",
    "# Notice that with increase in annual income charged off proportion got decreased."
   ]
  },
  {
   "cell_type": "code",
   "execution_count": 56,
   "id": "525369ae",
   "metadata": {},
   "outputs": [
    {
     "data": {
      "text/html": [
       "<div>\n",
       "<style scoped>\n",
       "    .dataframe tbody tr th:only-of-type {\n",
       "        vertical-align: middle;\n",
       "    }\n",
       "\n",
       "    .dataframe tbody tr th {\n",
       "        vertical-align: top;\n",
       "    }\n",
       "\n",
       "    .dataframe thead th {\n",
       "        text-align: right;\n",
       "    }\n",
       "</style>\n",
       "<table border=\"1\" class=\"dataframe\">\n",
       "  <thead>\n",
       "    <tr style=\"text-align: right;\">\n",
       "      <th>loan_status</th>\n",
       "      <th>purpose</th>\n",
       "      <th>Charged Off</th>\n",
       "      <th>Current</th>\n",
       "      <th>Fully Paid</th>\n",
       "      <th>Total</th>\n",
       "      <th>Chargedoff_Proportion</th>\n",
       "    </tr>\n",
       "  </thead>\n",
       "  <tbody>\n",
       "    <tr>\n",
       "      <th>11</th>\n",
       "      <td>small_business</td>\n",
       "      <td>472.0</td>\n",
       "      <td>74.0</td>\n",
       "      <td>1251.0</td>\n",
       "      <td>1797.0</td>\n",
       "      <td>0.262660</td>\n",
       "    </tr>\n",
       "    <tr>\n",
       "      <th>10</th>\n",
       "      <td>renewable_energy</td>\n",
       "      <td>19.0</td>\n",
       "      <td>1.0</td>\n",
       "      <td>81.0</td>\n",
       "      <td>101.0</td>\n",
       "      <td>0.188119</td>\n",
       "    </tr>\n",
       "    <tr>\n",
       "      <th>3</th>\n",
       "      <td>educational</td>\n",
       "      <td>55.0</td>\n",
       "      <td>0.0</td>\n",
       "      <td>268.0</td>\n",
       "      <td>323.0</td>\n",
       "      <td>0.170279</td>\n",
       "    </tr>\n",
       "    <tr>\n",
       "      <th>9</th>\n",
       "      <td>other</td>\n",
       "      <td>629.0</td>\n",
       "      <td>126.0</td>\n",
       "      <td>3203.0</td>\n",
       "      <td>3958.0</td>\n",
       "      <td>0.158919</td>\n",
       "    </tr>\n",
       "    <tr>\n",
       "      <th>8</th>\n",
       "      <td>moving</td>\n",
       "      <td>91.0</td>\n",
       "      <td>7.0</td>\n",
       "      <td>479.0</td>\n",
       "      <td>577.0</td>\n",
       "      <td>0.157712</td>\n",
       "    </tr>\n",
       "    <tr>\n",
       "      <th>5</th>\n",
       "      <td>house</td>\n",
       "      <td>58.0</td>\n",
       "      <td>14.0</td>\n",
       "      <td>299.0</td>\n",
       "      <td>371.0</td>\n",
       "      <td>0.156334</td>\n",
       "    </tr>\n",
       "    <tr>\n",
       "      <th>7</th>\n",
       "      <td>medical</td>\n",
       "      <td>106.0</td>\n",
       "      <td>12.0</td>\n",
       "      <td>568.0</td>\n",
       "      <td>686.0</td>\n",
       "      <td>0.154519</td>\n",
       "    </tr>\n",
       "    <tr>\n",
       "      <th>2</th>\n",
       "      <td>debt_consolidation</td>\n",
       "      <td>2752.0</td>\n",
       "      <td>580.0</td>\n",
       "      <td>15165.0</td>\n",
       "      <td>18497.0</td>\n",
       "      <td>0.148781</td>\n",
       "    </tr>\n",
       "    <tr>\n",
       "      <th>12</th>\n",
       "      <td>vacation</td>\n",
       "      <td>53.0</td>\n",
       "      <td>6.0</td>\n",
       "      <td>322.0</td>\n",
       "      <td>381.0</td>\n",
       "      <td>0.139108</td>\n",
       "    </tr>\n",
       "    <tr>\n",
       "      <th>4</th>\n",
       "      <td>home_improvement</td>\n",
       "      <td>338.0</td>\n",
       "      <td>97.0</td>\n",
       "      <td>2459.0</td>\n",
       "      <td>2894.0</td>\n",
       "      <td>0.116793</td>\n",
       "    </tr>\n",
       "    <tr>\n",
       "      <th>1</th>\n",
       "      <td>credit_card</td>\n",
       "      <td>537.0</td>\n",
       "      <td>102.0</td>\n",
       "      <td>4450.0</td>\n",
       "      <td>5089.0</td>\n",
       "      <td>0.105522</td>\n",
       "    </tr>\n",
       "    <tr>\n",
       "      <th>0</th>\n",
       "      <td>car</td>\n",
       "      <td>160.0</td>\n",
       "      <td>50.0</td>\n",
       "      <td>1332.0</td>\n",
       "      <td>1542.0</td>\n",
       "      <td>0.103761</td>\n",
       "    </tr>\n",
       "    <tr>\n",
       "      <th>6</th>\n",
       "      <td>major_purchase</td>\n",
       "      <td>220.0</td>\n",
       "      <td>37.0</td>\n",
       "      <td>1909.0</td>\n",
       "      <td>2166.0</td>\n",
       "      <td>0.101570</td>\n",
       "    </tr>\n",
       "    <tr>\n",
       "      <th>13</th>\n",
       "      <td>wedding</td>\n",
       "      <td>94.0</td>\n",
       "      <td>20.0</td>\n",
       "      <td>823.0</td>\n",
       "      <td>937.0</td>\n",
       "      <td>0.100320</td>\n",
       "    </tr>\n",
       "  </tbody>\n",
       "</table>\n",
       "</div>"
      ],
      "text/plain": [
       "loan_status             purpose  Charged Off  Current  Fully Paid    Total  \\\n",
       "11               small_business        472.0     74.0      1251.0   1797.0   \n",
       "10             renewable_energy         19.0      1.0        81.0    101.0   \n",
       "3                   educational         55.0      0.0       268.0    323.0   \n",
       "9                         other        629.0    126.0      3203.0   3958.0   \n",
       "8                        moving         91.0      7.0       479.0    577.0   \n",
       "5                         house         58.0     14.0       299.0    371.0   \n",
       "7                       medical        106.0     12.0       568.0    686.0   \n",
       "2            debt_consolidation       2752.0    580.0     15165.0  18497.0   \n",
       "12                     vacation         53.0      6.0       322.0    381.0   \n",
       "4              home_improvement        338.0     97.0      2459.0   2894.0   \n",
       "1                   credit_card        537.0    102.0      4450.0   5089.0   \n",
       "0                           car        160.0     50.0      1332.0   1542.0   \n",
       "6                major_purchase        220.0     37.0      1909.0   2166.0   \n",
       "13                      wedding         94.0     20.0       823.0    937.0   \n",
       "\n",
       "loan_status  Chargedoff_Proportion  \n",
       "11                        0.262660  \n",
       "10                        0.188119  \n",
       "3                         0.170279  \n",
       "9                         0.158919  \n",
       "8                         0.157712  \n",
       "5                         0.156334  \n",
       "7                         0.154519  \n",
       "2                         0.148781  \n",
       "12                        0.139108  \n",
       "4                         0.116793  \n",
       "1                         0.105522  \n",
       "0                         0.103761  \n",
       "6                         0.101570  \n",
       "13                        0.100320  "
      ]
     },
     "execution_count": 56,
     "metadata": {},
     "output_type": "execute_result"
    }
   ],
   "source": [
    "# Bivariate Analysis on purpose of Loan against Chargedoff_Proportion.\n",
    "purpose_vs_loan = loan.groupby(['purpose', 'loan_status']).loan_status.count().unstack().fillna(0).reset_index()\n",
    "purpose_vs_loan['Total'] = purpose_vs_loan['Charged Off'] + purpose_vs_loan['Current'] + purpose_vs_loan['Fully Paid'] \n",
    "purpose_vs_loan['Chargedoff_Proportion'] = purpose_vs_loan['Charged Off'] / purpose_vs_loan['Total']\n",
    "purpose_vs_loan.sort_values('Chargedoff_Proportion', ascending=False)\n"
   ]
  },
  {
   "cell_type": "code",
   "execution_count": 83,
   "id": "d012f70b",
   "metadata": {},
   "outputs": [
    {
     "data": {
      "image/png": "[encoded data removed]",
      "text/plain": [
       "<Figure size 1008x576 with 1 Axes>"
      ]
     },
     "metadata": {},
     "output_type": "display_data"
    }
   ],
   "source": [
    "fig, ax1 = plt.subplots(figsize=(14, 8))\n",
    "ax1.set_title('Purpose of Loans vs Chargedoff Proportion',fontsize=15,color = 'w')\n",
    "ax1=sns.barplot(y='purpose', x='Chargedoff_Proportion', data=purpose_vs_loan)\n",
    "ax1.set_ylabel('Purpose of Loans',fontsize=14,color='w')\n",
    "ax1.set_xlabel('Chargedoff Proportion',fontsize=14,color = 'w')\n",
    "plt.show()\n",
    "# Observations:\n",
    "# small Business applicants have high chnaces of getting charged off.\n",
    "# renewable_energy where chanrged off proportion is better as compare to other categories."
   ]
  },
  {
   "cell_type": "code",
   "execution_count": 58,
   "id": "69141946",
   "metadata": {},
   "outputs": [
    {
     "data": {
      "text/html": [
       "<div>\n",
       "<style scoped>\n",
       "    .dataframe tbody tr th:only-of-type {\n",
       "        vertical-align: middle;\n",
       "    }\n",
       "\n",
       "    .dataframe tbody tr th {\n",
       "        vertical-align: top;\n",
       "    }\n",
       "\n",
       "    .dataframe thead th {\n",
       "        text-align: right;\n",
       "    }\n",
       "</style>\n",
       "<table border=\"1\" class=\"dataframe\">\n",
       "  <thead>\n",
       "    <tr style=\"text-align: right;\">\n",
       "      <th>loan_status</th>\n",
       "      <th>grade</th>\n",
       "      <th>Charged Off</th>\n",
       "      <th>Current</th>\n",
       "      <th>Fully Paid</th>\n",
       "      <th>Total</th>\n",
       "      <th>Chargedoff_Proportion</th>\n",
       "    </tr>\n",
       "  </thead>\n",
       "  <tbody>\n",
       "    <tr>\n",
       "      <th>6</th>\n",
       "      <td>G</td>\n",
       "      <td>99</td>\n",
       "      <td>17</td>\n",
       "      <td>190</td>\n",
       "      <td>306</td>\n",
       "      <td>0.323529</td>\n",
       "    </tr>\n",
       "    <tr>\n",
       "      <th>5</th>\n",
       "      <td>F</td>\n",
       "      <td>312</td>\n",
       "      <td>71</td>\n",
       "      <td>642</td>\n",
       "      <td>1025</td>\n",
       "      <td>0.304390</td>\n",
       "    </tr>\n",
       "    <tr>\n",
       "      <th>4</th>\n",
       "      <td>E</td>\n",
       "      <td>704</td>\n",
       "      <td>176</td>\n",
       "      <td>1906</td>\n",
       "      <td>2786</td>\n",
       "      <td>0.252692</td>\n",
       "    </tr>\n",
       "    <tr>\n",
       "      <th>3</th>\n",
       "      <td>D</td>\n",
       "      <td>1112</td>\n",
       "      <td>216</td>\n",
       "      <td>3916</td>\n",
       "      <td>5244</td>\n",
       "      <td>0.212052</td>\n",
       "    </tr>\n",
       "    <tr>\n",
       "      <th>2</th>\n",
       "      <td>C</td>\n",
       "      <td>1342</td>\n",
       "      <td>262</td>\n",
       "      <td>6411</td>\n",
       "      <td>8015</td>\n",
       "      <td>0.167436</td>\n",
       "    </tr>\n",
       "    <tr>\n",
       "      <th>1</th>\n",
       "      <td>B</td>\n",
       "      <td>1414</td>\n",
       "      <td>344</td>\n",
       "      <td>10167</td>\n",
       "      <td>11925</td>\n",
       "      <td>0.118574</td>\n",
       "    </tr>\n",
       "    <tr>\n",
       "      <th>0</th>\n",
       "      <td>A</td>\n",
       "      <td>601</td>\n",
       "      <td>40</td>\n",
       "      <td>9377</td>\n",
       "      <td>10018</td>\n",
       "      <td>0.059992</td>\n",
       "    </tr>\n",
       "  </tbody>\n",
       "</table>\n",
       "</div>"
      ],
      "text/plain": [
       "loan_status grade  Charged Off  Current  Fully Paid  Total  \\\n",
       "6               G           99       17         190    306   \n",
       "5               F          312       71         642   1025   \n",
       "4               E          704      176        1906   2786   \n",
       "3               D         1112      216        3916   5244   \n",
       "2               C         1342      262        6411   8015   \n",
       "1               B         1414      344       10167  11925   \n",
       "0               A          601       40        9377  10018   \n",
       "\n",
       "loan_status  Chargedoff_Proportion  \n",
       "6                         0.323529  \n",
       "5                         0.304390  \n",
       "4                         0.252692  \n",
       "3                         0.212052  \n",
       "2                         0.167436  \n",
       "1                         0.118574  \n",
       "0                         0.059992  "
      ]
     },
     "execution_count": 58,
     "metadata": {},
     "output_type": "execute_result"
    }
   ],
   "source": [
    "# Bivariate Analysis on grade against Chargedoff_Proportion\n",
    "\n",
    "grade_vs_loan = loan.groupby(['grade', 'loan_status']).loan_status.count().unstack().fillna(0).reset_index()\n",
    "grade_vs_loan['Total'] = grade_vs_loan['Charged Off'] + grade_vs_loan['Current'] + grade_vs_loan['Fully Paid'] \n",
    "grade_vs_loan['Chargedoff_Proportion'] = grade_vs_loan['Charged Off'] / grade_vs_loan['Total']\n",
    "grade_vs_loan.sort_values('Chargedoff_Proportion', ascending=False)\n"
   ]
  },
  {
   "cell_type": "code",
   "execution_count": 82,
   "id": "751dda35",
   "metadata": {},
   "outputs": [
    {
     "data": {
      "image/png": "[encoded data removed]",
      "text/plain": [
       "<Figure size 1008x576 with 1 Axes>"
      ]
     },
     "metadata": {},
     "output_type": "display_data"
    }
   ],
   "source": [
    "\n",
    "fig, ax1 = plt.subplots(figsize=(14, 8))\n",
    "ax1.set_title('Grades vs Chargedoff Proportion',fontsize=15,color='w')\n",
    "ax1=sns.barplot(x='grade', y='Chargedoff_Proportion', data=grade_vs_loan)\n",
    "ax1.set_xlabel('Grades',fontsize=14,color='w')\n",
    "ax1.set_ylabel('Chargedoff Proportion',fontsize=14,color ='w')\n",
    "plt.show()\n",
    "\n",
    "# Observations:\n",
    "# Grade \"A\" has very less chances of charged off.\n",
    "# Grade \"F\" and \"G\" have very high chances of charged off.\n",
    "# Chances of charged off is increasing with grade moving from \"A\" towards \"G\""
   ]
  },
  {
   "cell_type": "code",
   "execution_count": 60,
   "id": "acd8a76f",
   "metadata": {},
   "outputs": [
    {
     "data": {
      "text/html": [
       "<div>\n",
       "<style scoped>\n",
       "    .dataframe tbody tr th:only-of-type {\n",
       "        vertical-align: middle;\n",
       "    }\n",
       "\n",
       "    .dataframe tbody tr th {\n",
       "        vertical-align: top;\n",
       "    }\n",
       "\n",
       "    .dataframe thead th {\n",
       "        text-align: right;\n",
       "    }\n",
       "</style>\n",
       "<table border=\"1\" class=\"dataframe\">\n",
       "  <thead>\n",
       "    <tr style=\"text-align: right;\">\n",
       "      <th>loan_status</th>\n",
       "      <th>int_rate_cats</th>\n",
       "      <th>Charged Off</th>\n",
       "      <th>Current</th>\n",
       "      <th>Fully Paid</th>\n",
       "      <th>Total</th>\n",
       "      <th>Chargedoff_Proportion</th>\n",
       "    </tr>\n",
       "  </thead>\n",
       "  <tbody>\n",
       "    <tr>\n",
       "      <th>3</th>\n",
       "      <td>16 +</td>\n",
       "      <td>1250</td>\n",
       "      <td>351</td>\n",
       "      <td>3317</td>\n",
       "      <td>4918</td>\n",
       "      <td>0.254168</td>\n",
       "    </tr>\n",
       "    <tr>\n",
       "      <th>2</th>\n",
       "      <td>12.5-16</td>\n",
       "      <td>1995</td>\n",
       "      <td>329</td>\n",
       "      <td>9354</td>\n",
       "      <td>11678</td>\n",
       "      <td>0.170834</td>\n",
       "    </tr>\n",
       "    <tr>\n",
       "      <th>1</th>\n",
       "      <td>10-13</td>\n",
       "      <td>1224</td>\n",
       "      <td>269</td>\n",
       "      <td>8083</td>\n",
       "      <td>9576</td>\n",
       "      <td>0.127820</td>\n",
       "    </tr>\n",
       "    <tr>\n",
       "      <th>0</th>\n",
       "      <td>0-10</td>\n",
       "      <td>825</td>\n",
       "      <td>77</td>\n",
       "      <td>11403</td>\n",
       "      <td>12305</td>\n",
       "      <td>0.067046</td>\n",
       "    </tr>\n",
       "  </tbody>\n",
       "</table>\n",
       "</div>"
      ],
      "text/plain": [
       "loan_status int_rate_cats  Charged Off  Current  Fully Paid  Total  \\\n",
       "3                    16 +         1250      351        3317   4918   \n",
       "2                 12.5-16         1995      329        9354  11678   \n",
       "1                   10-13         1224      269        8083   9576   \n",
       "0                    0-10          825       77       11403  12305   \n",
       "\n",
       "loan_status  Chargedoff_Proportion  \n",
       "3                         0.254168  \n",
       "2                         0.170834  \n",
       "1                         0.127820  \n",
       "0                         0.067046  "
      ]
     },
     "execution_count": 60,
     "metadata": {},
     "output_type": "execute_result"
    }
   ],
   "source": [
    "# Bivariate Analysis on interest rate against Chargedoff_Proportion\n",
    "\n",
    "interest_vs_loan = loan.groupby(['int_rate_cats', 'loan_status']).loan_status.count().unstack().fillna(0).reset_index()\n",
    "interest_vs_loan['Total'] = interest_vs_loan['Charged Off'] + interest_vs_loan['Current'] + interest_vs_loan['Fully Paid'] \n",
    "interest_vs_loan['Chargedoff_Proportion'] = interest_vs_loan['Charged Off'] / interest_vs_loan['Total']\n",
    "interest_vs_loan.sort_values('Chargedoff_Proportion', ascending=False)\n",
    "\n",
    "# Observations:\n",
    "# interest rate less than 10% has very less chances of charged off. Intrest rates are starting from minimin 5 %.\n",
    "# interest rate more than 16% has good chnaces of charged off as compared to other category intrest rates.\n",
    "# Charged off proportion is increasing with higher intrest rates."
   ]
  },
  {
   "cell_type": "code",
   "execution_count": 81,
   "id": "fe0a1e5b",
   "metadata": {},
   "outputs": [
    {
     "data": {
      "image/png": "[encoded data removed]",
      "text/plain": [
       "<Figure size 864x576 with 1 Axes>"
      ]
     },
     "metadata": {},
     "output_type": "display_data"
    }
   ],
   "source": [
    "fig, ax1 = plt.subplots(figsize=(12, 8))\n",
    "ax1.set_title('Interest Rate vs Chargedoff Proportion',fontsize=15,color='w')\n",
    "ax1=sns.barplot(x='int_rate_cats', y='Chargedoff_Proportion', data=interest_vs_loan)\n",
    "ax1.set_xlabel('Interest Rate',fontsize=14,color='w')\n",
    "ax1.set_ylabel('Chargedoff Proportion',fontsize=14,color = 'w')\n",
    "plt.show()"
   ]
  },
  {
   "cell_type": "code",
   "execution_count": 62,
   "id": "0cab1c73",
   "metadata": {},
   "outputs": [
    {
     "data": {
      "text/html": [
       "<div>\n",
       "<style scoped>\n",
       "    .dataframe tbody tr th:only-of-type {\n",
       "        vertical-align: middle;\n",
       "    }\n",
       "\n",
       "    .dataframe tbody tr th {\n",
       "        vertical-align: top;\n",
       "    }\n",
       "\n",
       "    .dataframe thead th {\n",
       "        text-align: right;\n",
       "    }\n",
       "</style>\n",
       "<table border=\"1\" class=\"dataframe\">\n",
       "  <thead>\n",
       "    <tr style=\"text-align: right;\">\n",
       "      <th>loan_status</th>\n",
       "      <th>emp_length</th>\n",
       "      <th>Charged Off</th>\n",
       "      <th>Current</th>\n",
       "      <th>Fully Paid</th>\n",
       "      <th>Total</th>\n",
       "      <th>Chargedoff_Proportion</th>\n",
       "    </tr>\n",
       "  </thead>\n",
       "  <tbody>\n",
       "    <tr>\n",
       "      <th>0</th>\n",
       "      <td>0</td>\n",
       "      <td>227</td>\n",
       "      <td>42</td>\n",
       "      <td>801</td>\n",
       "      <td>1070</td>\n",
       "      <td>0.212150</td>\n",
       "    </tr>\n",
       "    <tr>\n",
       "      <th>10</th>\n",
       "      <td>10</td>\n",
       "      <td>1316</td>\n",
       "      <td>386</td>\n",
       "      <td>7038</td>\n",
       "      <td>8740</td>\n",
       "      <td>0.150572</td>\n",
       "    </tr>\n",
       "    <tr>\n",
       "      <th>7</th>\n",
       "      <td>7</td>\n",
       "      <td>262</td>\n",
       "      <td>62</td>\n",
       "      <td>1435</td>\n",
       "      <td>1759</td>\n",
       "      <td>0.148948</td>\n",
       "    </tr>\n",
       "    <tr>\n",
       "      <th>1</th>\n",
       "      <td>1</td>\n",
       "      <td>1090</td>\n",
       "      <td>143</td>\n",
       "      <td>6533</td>\n",
       "      <td>7766</td>\n",
       "      <td>0.140355</td>\n",
       "    </tr>\n",
       "    <tr>\n",
       "      <th>5</th>\n",
       "      <td>5</td>\n",
       "      <td>456</td>\n",
       "      <td>87</td>\n",
       "      <td>2712</td>\n",
       "      <td>3255</td>\n",
       "      <td>0.140092</td>\n",
       "    </tr>\n",
       "    <tr>\n",
       "      <th>8</th>\n",
       "      <td>8</td>\n",
       "      <td>203</td>\n",
       "      <td>43</td>\n",
       "      <td>1216</td>\n",
       "      <td>1462</td>\n",
       "      <td>0.138851</td>\n",
       "    </tr>\n",
       "    <tr>\n",
       "      <th>6</th>\n",
       "      <td>6</td>\n",
       "      <td>305</td>\n",
       "      <td>58</td>\n",
       "      <td>1846</td>\n",
       "      <td>2209</td>\n",
       "      <td>0.138072</td>\n",
       "    </tr>\n",
       "    <tr>\n",
       "      <th>3</th>\n",
       "      <td>3</td>\n",
       "      <td>551</td>\n",
       "      <td>82</td>\n",
       "      <td>3426</td>\n",
       "      <td>4059</td>\n",
       "      <td>0.135748</td>\n",
       "    </tr>\n",
       "    <tr>\n",
       "      <th>4</th>\n",
       "      <td>4</td>\n",
       "      <td>456</td>\n",
       "      <td>94</td>\n",
       "      <td>2860</td>\n",
       "      <td>3410</td>\n",
       "      <td>0.133724</td>\n",
       "    </tr>\n",
       "    <tr>\n",
       "      <th>2</th>\n",
       "      <td>2</td>\n",
       "      <td>561</td>\n",
       "      <td>97</td>\n",
       "      <td>3684</td>\n",
       "      <td>4342</td>\n",
       "      <td>0.129203</td>\n",
       "    </tr>\n",
       "    <tr>\n",
       "      <th>9</th>\n",
       "      <td>9</td>\n",
       "      <td>157</td>\n",
       "      <td>32</td>\n",
       "      <td>1058</td>\n",
       "      <td>1247</td>\n",
       "      <td>0.125902</td>\n",
       "    </tr>\n",
       "  </tbody>\n",
       "</table>\n",
       "</div>"
      ],
      "text/plain": [
       "loan_status  emp_length  Charged Off  Current  Fully Paid  Total  \\\n",
       "0                     0          227       42         801   1070   \n",
       "10                   10         1316      386        7038   8740   \n",
       "7                     7          262       62        1435   1759   \n",
       "1                     1         1090      143        6533   7766   \n",
       "5                     5          456       87        2712   3255   \n",
       "8                     8          203       43        1216   1462   \n",
       "6                     6          305       58        1846   2209   \n",
       "3                     3          551       82        3426   4059   \n",
       "4                     4          456       94        2860   3410   \n",
       "2                     2          561       97        3684   4342   \n",
       "9                     9          157       32        1058   1247   \n",
       "\n",
       "loan_status  Chargedoff_Proportion  \n",
       "0                         0.212150  \n",
       "10                        0.150572  \n",
       "7                         0.148948  \n",
       "1                         0.140355  \n",
       "5                         0.140092  \n",
       "8                         0.138851  \n",
       "6                         0.138072  \n",
       "3                         0.135748  \n",
       "4                         0.133724  \n",
       "2                         0.129203  \n",
       "9                         0.125902  "
      ]
     },
     "execution_count": 62,
     "metadata": {},
     "output_type": "execute_result"
    }
   ],
   "source": [
    "# Bivariate Analysis on employment length against Chargedoff_Proportion\n",
    "\n",
    "emplen_vs_loan = loan.groupby(['emp_length', 'loan_status']).loan_status.count().unstack().fillna(0).reset_index()\n",
    "emplen_vs_loan['Total'] = emplen_vs_loan['Charged Off'] + emplen_vs_loan['Current'] + emplen_vs_loan['Fully Paid'] \n",
    "emplen_vs_loan['Chargedoff_Proportion'] = emplen_vs_loan['Charged Off'] / emplen_vs_loan['Total']\n",
    "emplen_vs_loan.sort_values('Chargedoff_Proportion', ascending=False)"
   ]
  },
  {
   "cell_type": "code",
   "execution_count": 80,
   "id": "07af12d0",
   "metadata": {},
   "outputs": [
    {
     "data": {
      "image/png": "[encoded data removed]",
      "text/plain": [
       "<Figure size 864x576 with 1 Axes>"
      ]
     },
     "metadata": {},
     "output_type": "display_data"
    }
   ],
   "source": [
    "fig, ax1 = plt.subplots(figsize=(12, 8))\n",
    "ax1.set_title('Employment Length vs Chargedoff Proportion',fontsize=15,color='w')\n",
    "ax1=sns.barplot(x='emp_length', y='Chargedoff_Proportion', data=emplen_vs_loan)\n",
    "ax1.set_xlabel('Employment Length',fontsize=14,color='w')\n",
    "ax1.set_ylabel('Chargedoff Proportion',fontsize=14,color = 'w')\n",
    "plt.show()\n",
    "\n",
    "# Observations:\n",
    "# Those who are not working or have less than 1 year of work experience have high chances of getting charged off.\n",
    "# Rest of the applicants have more or less same chnaces of getting charged off."
   ]
  },
  {
   "cell_type": "markdown",
   "id": "2af8d0c6",
   "metadata": {},
   "source": [
    "<h2> Bivariant Analysis using Boxplot <h2>"
   ]
  },
  {
   "cell_type": "code",
   "execution_count": 79,
   "id": "65640d74",
   "metadata": {},
   "outputs": [
    {
     "data": {
      "image/png": "[encoded data removed]",
      "text/plain": [
       "<Figure size 864x576 with 1 Axes>"
      ]
     },
     "metadata": {},
     "output_type": "display_data"
    }
   ],
   "source": [
    "#Bivariate Analysis - Puprose of loan vs Loan amount\n",
    "\n",
    "plt.figure(figsize=(12,8))\n",
    "ax = sns.boxplot(y='purpose', x='loan_amnt', data =loan,palette='rainbow')\n",
    "ax.set_title('Purpose of Loan vs Loan Amount',fontsize=15,color='w')\n",
    "ax.set_ylabel('Purpose of Loan',fontsize=14,color = 'w')\n",
    "ax.set_xlabel('Loan Amount',fontsize=14,color = 'w')\n",
    "plt.show()\n",
    "# Observations:\n",
    "# Median,95th percentile,75th percentile of loan amount is highest for loan taken for small business purpose among all purposes.\n"
   ]
  },
  {
   "cell_type": "code",
   "execution_count": 78,
   "id": "01b838ba",
   "metadata": {},
   "outputs": [
    {
     "data": {
      "image/png": "[encoded data removed]",
      "text/plain": [
       "<Figure size 720x432 with 1 Axes>"
      ]
     },
     "metadata": {},
     "output_type": "display_data"
    }
   ],
   "source": [
    "# Bivariate Analysis - Term of loan vs Interest Rate\n",
    "plt.figure(figsize=(10,6))\n",
    "ax = sns.boxplot(y='int_rate', x='term', data =loan,palette='rainbow')\n",
    "ax.set_title('Term of loan vs Interest Rate',fontsize=15,color='w')\n",
    "ax.set_ylabel('Interest Rate',fontsize=14,color = 'w')\n",
    "ax.set_xlabel('Term of loan',fontsize=14,color = 'w')\n",
    "plt.show()\n",
    "# Observations:\n",
    "# It is clear that avearge intrest rate is higher for 60 months loan term.\n",
    "# Most of the loans issued for longer term had higher intrest rates for repayement."
   ]
  },
  {
   "cell_type": "code",
   "execution_count": 77,
   "id": "fa3dc803",
   "metadata": {},
   "outputs": [
    {
     "data": {
      "image/png": "[encoded data removed]",
      "text/plain": [
       "<Figure size 1008x576 with 1 Axes>"
      ]
     },
     "metadata": {},
     "output_type": "display_data"
    }
   ],
   "source": [
    "# Bivariate Analysis - Purpose vs Interest Rate\n",
    "plt.figure(figsize=(14,8))\n",
    "ax = sns.boxplot(x='int_rate', y='purpose', data =loan,palette='rainbow')\n",
    "ax.set_title('Purpose vs Interest Rate',fontsize=15,color='w')\n",
    "ax.set_xlabel('Interest Rate',fontsize=14,color = 'w')\n",
    "ax.set_ylabel('Purpose of Loan',fontsize=14,color = 'w')\n",
    "plt.show()\n",
    "# Observations:\n",
    "# It is clear that avearge intrest rate is highest for small business purpose.\n",
    "# Loans taken for small business purposes had to repay the loan with more intrest rate as compared to other.\n"
   ]
  },
  {
   "cell_type": "code",
   "execution_count": 76,
   "id": "32495267",
   "metadata": {},
   "outputs": [
    {
     "data": {
      "image/png": "[encoded data removed]",
      "text/plain": [
       "<Figure size 1008x576 with 1 Axes>"
      ]
     },
     "metadata": {},
     "output_type": "display_data"
    }
   ],
   "source": [
    "# Bivariate Analysis - Loan Amount vs Interest Rate\n",
    "plt.figure(figsize=(14,8))\n",
    "ax = sns.boxplot(y='int_rate', x='loan_amnt_cats', data =loan,palette='rainbow')\n",
    "ax.set_title('Loan amount vs Interest Rate',fontsize=15,color='w')\n",
    "ax.set_ylabel('Interest Rate',fontsize=14,color = 'w')\n",
    "ax.set_xlabel('Loan Amount',fontsize=14,color = 'w')\n",
    "plt.show()\n",
    "# Observations:\n",
    "# It is clear that intrest rate is increasing with loan amount increase."
   ]
  },
  {
   "cell_type": "code",
   "execution_count": 75,
   "id": "da07d00d",
   "metadata": {},
   "outputs": [
    {
     "data": {
      "image/png": "[encoded data removed]",
      "text/plain": [
       "<Figure size 800x480 with 1 Axes>"
      ]
     },
     "metadata": {},
     "output_type": "display_data"
    }
   ],
   "source": [
    "# Bivariate analysis\n",
    "# BarPlot to show variation of annual income across grade for every loan status.\n",
    "\n",
    "plt.figure(figsize=(10,6), dpi=80, edgecolor='k')\n",
    "ax=sns.barplot(x='grade', y='annual_inc', hue=\"loan_status\", data=loan, estimator=np.mean,order='ABCDEFG')\n",
    "ax.set_title('Grade vs Annual income',fontsize=15,color='w')\n",
    "ax.set_ylabel('Annual income',fontsize=14,color = 'w')\n",
    "ax.set_xlabel('Grades',fontsize=14,color = 'w')\n",
    "plt.show()\n",
    "# Observations:\n",
    "# From this we can conclude that the ones getting 'charged off' have lower annual incomes than the ones \n",
    "# who'paid fully' for each and every grade (i.e. at same interest range)"
   ]
  },
  {
   "cell_type": "code",
   "execution_count": null,
   "id": "2c13970f",
   "metadata": {},
   "outputs": [],
   "source": []
  }
 ],
 "metadata": {
  "kernelspec": {
   "display_name": "Python 3 (ipykernel)",
   "language": "python",
   "name": "python3"
  },
  "language_info": {
   "codemirror_mode": {
    "name": "ipython",
    "version": 3
   },
   "file_extension": ".py",
   "mimetype": "text/x-python",
   "name": "python",
   "nbconvert_exporter": "python",
   "pygments_lexer": "ipython3",
   "version": "3.9.7"
  }
 },
 "nbformat": 4,
 "nbformat_minor": 5
}
